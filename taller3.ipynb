{
  "nbformat": 4,
  "nbformat_minor": 0,
  "metadata": {
    "colab": {
      "provenance": [],
      "authorship_tag": "ABX9TyNTu4eB7rRdgPSE44mC6Th6",
      "include_colab_link": true
    },
    "kernelspec": {
      "name": "python3",
      "display_name": "Python 3"
    },
    "language_info": {
      "name": "python"
    }
  },
  "cells": [
    {
      "cell_type": "markdown",
      "metadata": {
        "id": "view-in-github",
        "colab_type": "text"
      },
      "source": [
        "<a href=\"https://colab.research.google.com/github/adrialean13/TALLER-3/blob/main/taller3.ipynb\" target=\"_parent\"><img src=\"https://colab.research.google.com/assets/colab-badge.svg\" alt=\"Open In Colab\"/></a>"
      ]
    },
    {
      "cell_type": "code",
      "execution_count": null,
      "metadata": {
        "id": "-BBvoILIUNl6"
      },
      "outputs": [],
      "source": [
        "Problema #2: Cálculo de la Tarifa de un Taxi\n",
        "Descripción del problema:\n",
        "La tarifa de un taxi se calcula en función de varios factores, incluyendo la distancia recorrida, el\n",
        "tiempo detenido, y un recargo nocturno. La tarifa por kilómetro varía dependiendo de la distancia\n",
        "total recorrida:\n",
        "* Tarifa Base: $6,000 COP.\n",
        "* Tarifa por Kilómetro:\n",
        "o Hasta 5 kilómetros: $1,500 COP por kilómetro.\n",
        "o Más de 5 kilómetros y hasta 15 kilómetros: $1,200 COP por kilómetro.\n",
        "o Más de 15 kilómetros: $1,000 COP por kilómetro.\n",
        "* Tarifa por Tiempo de Detención: $400 COP por minuto.\n",
        "* Recargo Nocturno: 20% sobre el total si el viaje ocurre entre las 22:00 y las 6:00.\n",
        "Entradas del problema:\n",
        "* distancia: distancia recorrida en kilómetros (flotante).\n",
        "* tiempo_detención: tiempo detenido en minutos (entero).\n",
        "* hora_inicio: hora de inicio del viaje en formato 24 horas (entero).\n",
        "Salidas esperadas:\n",
        "* Total a pagar por el viaje en taxi (en pesos colombianos, COP).\n",
        "\n",
        "\n",
        "\n"
      ]
    },
    {
      "cell_type": "code",
      "source": [
        "# ALGORITMO para calcular la tarifa de un taxi\n",
        "1. INICIO\n",
        "2. Inicializar la tarifa base en $6,000 COP.\n",
        "3. Calcular la tarifa por kilómetro según la distancia recorrida:\n",
        "  - Si la distancia es ≤ a 5 kilómetros, la tarifa por kilómetro es $1,500 COP.\n",
        "  - Si la distancia es > a 5 kilómetros y ≤ a 15 kilómetros, la tarifa por kilómetro es $1,200 COP.\n",
        "  - Si la distancia es > a 15 kilómetros, la tarifa por kilómetro es $1,000 COP.\n",
        "4. Calcular la tarifa por distancia multiplicando la distancia recorrida por la tarifa por kilómetro correspondiente.\n",
        "5. Calcular la tarifa por tiempo de detención multiplicando el tiempo detenido por $400 COP por minuto.\n",
        "6. Calcular el recargo nocturno si el viaje ocurre entre las 22:00 y las 6:00:\n",
        "  - Si la hora de inicio del viaje es entre 22:00 y 6:00, calcular el 20% del total acumulado hasta ahora.\n",
        "7. Calcular el total a pagar sumando la tarifa base, la tarifa por distancia, la tarifa por tiempo de detención y el recargo nocturno (si aplica).\n",
        "8. FIN"
      ],
      "metadata": {
        "id": "6Nu1LeVPVxey"
      },
      "execution_count": null,
      "outputs": []
    },
    {
      "cell_type": "code",
      "source": [
        "// Programa para calcular la tarifa de un taxi (distancia, tiempo de detención, hora de inicio)\n",
        "Start\n",
        "\n",
        "// Declaración de variables\n",
        "Declare float tarifa_base = 6000\n",
        "Declare float tarifa_por_km = 0\n",
        "Declare float tarifa_por_distancia = 0\n",
        "Declare float tarifa_por_tiempo = 0\n",
        "Declare float recargo_nocturno = 0\n",
        "Declare float total = 0\n",
        "\n",
        "// Calculo para la tarifa por kilómetro\n",
        "If distancia <= 5 then\n",
        "    tarifa_por_km = 1500\n",
        "Else if distancia <= 15 then\n",
        "    tarifa_por_km = 1200\n",
        "Else\n",
        "    tarifa_por_km = 1000\n",
        "\n",
        "// Calculo para la tarifa de distancia\n",
        "tarifa_por_distancia = distancia * tarifa_por_km\n",
        "\n",
        "// Calculo para la tarifa por tiempo de detención\n",
        "tarifa_por_tiempo = tiempo_detencion * 400\n",
        "\n",
        "// Calculo para el total\n",
        "total = tarifa_base + tarifa_por_distancia + tarifa_por_tiempo\n",
        "\n",
        "// Calculo del recargo nocturno\n",
        "If (hora_inicio >= 22) or (hora_inicio < 6) then\n",
        "    recargo_nocturno = total * 0.20\n",
        "    total = total + recargo_nocturno\n",
        "\n",
        "// Imprimir el total a pagar\n",
        "Print \"Total a pagar: \", total, \" COP\"\n",
        "\n",
        "End\n"
      ],
      "metadata": {
        "id": "hDmziC2NVbeJ"
      },
      "execution_count": null,
      "outputs": []
    },
    {
      "cell_type": "code",
      "source": [
        "def calcular_tarifa_taxi(distancia, tiempo_detencion, hora_inicio):\n",
        "    # Tarifa base\n",
        "    tarifa_base = 6000\n",
        "\n",
        "    # Determinar la tarifa por kilómetro basada en la distancia recorrida\n",
        "    if distancia <= 5:\n",
        "        tarifa_por_km = 1500\n",
        "    elif 5 < distancia <= 15:\n",
        "        tarifa_por_km = 1200\n",
        "    else:\n",
        "        tarifa_por_km = 1000\n",
        "\n",
        "    # Calcular la tarifa por distancia\n",
        "    tarifa_por_distancia = distancia * tarifa_por_km\n",
        "\n",
        "    # Calcular la tarifa por tiempo de detención\n",
        "    tarifa_por_tiempo = tiempo_detencion * 400\n",
        "\n",
        "    # Calcular el total antes del recargo nocturno\n",
        "    total = tarifa_base + tarifa_por_distancia + tarifa_por_tiempo\n",
        "\n",
        "    # Calcular el recargo nocturno si aplica\n",
        "    if (hora_inicio >= 22) or (hora_inicio < 6):\n",
        "        recargo_nocturno = total * 0.20\n",
        "        total += recargo_nocturno\n",
        "\n",
        "    return total\n",
        "\n",
        "# Solicitar entradas al usuario\n",
        "distancia = float(input(\"Ingrese la distancia recorrida en kilómetros: \"))\n",
        "tiempo_detencion = int(input(\"Ingrese el tiempo de detención en minutos: \"))\n",
        "hora_inicio = int(input(\"Ingrese la hora de inicio del viaje (en formato 24 horas): \"))\n",
        "\n",
        "# Calcular la tarifa total\n",
        "total_a_pagar = calcular_tarifa_taxi(distancia, tiempo_detencion, hora_inicio)\n",
        "\n",
        "# Mostrar el resultado\n",
        "print(f\"Total a pagar: {total_a_pagar:.2f} COP\")\n"
      ],
      "metadata": {
        "id": "Tgs9n12FVlsZ"
      },
      "execution_count": null,
      "outputs": []
    }
  ]
}